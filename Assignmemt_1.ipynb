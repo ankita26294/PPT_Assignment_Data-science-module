{
 "cells": [
  {
   "cell_type": "markdown",
   "id": "83857e97",
   "metadata": {},
   "source": [
    "## 1. Write a Python program to reverse a string without using any built-in string reversal functions."
   ]
  },
  {
   "cell_type": "code",
   "execution_count": 1,
   "id": "f2e16d39",
   "metadata": {},
   "outputs": [
    {
     "data": {
      "text/plain": [
       "'atiknA'"
      ]
     },
     "execution_count": 1,
     "metadata": {},
     "output_type": "execute_result"
    }
   ],
   "source": [
    "s=\"Ankita\"\n",
    "s[::-1]"
   ]
  },
  {
   "cell_type": "markdown",
   "id": "bff8e067",
   "metadata": {},
   "source": [
    "## 2. Implement a function to check if a given string is a palindrome.\n"
   ]
  },
  {
   "cell_type": "code",
   "execution_count": 2,
   "id": "4b009a73",
   "metadata": {},
   "outputs": [
    {
     "name": "stdout",
     "output_type": "stream",
     "text": [
      "dad\n",
      "Yes\n"
     ]
    }
   ],
   "source": [
    "s=str(input())\n",
    "def isPalindrome(s):\n",
    "    return s == s[::-1]\n",
    "ans = isPalindrome(s)\n",
    " \n",
    "if ans:\n",
    "    print(\"Yes\")\n",
    "else:\n",
    "    print(\"No\")    "
   ]
  },
  {
   "cell_type": "markdown",
   "id": "4c27574d",
   "metadata": {},
   "source": [
    "## 3. Write a program to find the largest element in a given list."
   ]
  },
  {
   "cell_type": "code",
   "execution_count": 3,
   "id": "57de6118",
   "metadata": {},
   "outputs": [
    {
     "data": {
      "text/plain": [
       "876"
      ]
     },
     "execution_count": 3,
     "metadata": {},
     "output_type": "execute_result"
    }
   ],
   "source": [
    "l=[1,2,3,4,5,7,76,876]\n",
    "max(l)"
   ]
  },
  {
   "cell_type": "markdown",
   "id": "0c7fe378",
   "metadata": {},
   "source": [
    "## 4. Implement a function to count the occurrence of each element in a list.\n"
   ]
  },
  {
   "cell_type": "code",
   "execution_count": 4,
   "id": "56ce402a",
   "metadata": {},
   "outputs": [
    {
     "name": "stdout",
     "output_type": "stream",
     "text": [
      "1 1\n",
      "2 1\n",
      "3 1\n",
      "4 1\n",
      "5 2\n",
      "5 2\n",
      "6 2\n",
      "6 2\n",
      "7 1\n",
      "8 1\n"
     ]
    }
   ],
   "source": [
    "l=[1,2,3,4,5,5,6,6,7,8]\n",
    "def count_occurance(l):\n",
    "    for i in l:\n",
    "        print(i,l.count(i))\n",
    "count_occurance(l)        \n",
    "        "
   ]
  },
  {
   "cell_type": "markdown",
   "id": "bc0122d0",
   "metadata": {},
   "source": [
    "## 5. Write a Python program to find the second largest number in a list"
   ]
  },
  {
   "cell_type": "code",
   "execution_count": null,
   "id": "2974a197",
   "metadata": {},
   "outputs": [],
   "source": [
    "list1 = [10, 20, 20, 4, 45, 45, 45, 99, 99]\n",
    " \n",
    "# Removing duplicates from the list\n",
    "list2 = list(set(list1))\n",
    " \n",
    "# Sorting the  list\n",
    "list2.sort()\n",
    " \n",
    "# Printing the second last element\n",
    "print(\"Second largest element is:\", list2[-2])"
   ]
  },
  {
   "cell_type": "markdown",
   "id": "4440d4a2",
   "metadata": {},
   "source": [
    "## 6. Implement a function to remove duplicate elements from a list."
   ]
  },
  {
   "cell_type": "code",
   "execution_count": 1,
   "id": "a974bfd3",
   "metadata": {},
   "outputs": [
    {
     "name": "stdout",
     "output_type": "stream",
     "text": [
      "{1, 2, 3}\n"
     ]
    }
   ],
   "source": [
    "l=[1,2,3,3,3,3,3]\n",
    "print(set(l))"
   ]
  },
  {
   "cell_type": "markdown",
   "id": "f6958a1f",
   "metadata": {},
   "source": [
    "## 7. Write a program to calculate the factorial of a given number."
   ]
  },
  {
   "cell_type": "code",
   "execution_count": 2,
   "id": "969aa838",
   "metadata": {},
   "outputs": [
    {
     "name": "stdout",
     "output_type": "stream",
     "text": [
      "The factorial of 5 is 120\n"
     ]
    }
   ],
   "source": [
    "import math\n",
    "\n",
    "num = 5 \n",
    "factorial = math.factorial(num)\n",
    "\n",
    "print(\"The factorial of\", num, \"is\", factorial)"
   ]
  },
  {
   "cell_type": "markdown",
   "id": "b60a1f52",
   "metadata": {},
   "source": [
    "## 8. Implement a function to check if a given number is prime.\n"
   ]
  },
  {
   "cell_type": "code",
   "execution_count": 3,
   "id": "b69f073c",
   "metadata": {},
   "outputs": [
    {
     "name": "stdout",
     "output_type": "stream",
     "text": [
      "5 is a prime number\n"
     ]
    }
   ],
   "source": [
    "# num = int(input())\n",
    "# If given number is greater than 1\n",
    "if num > 1:\n",
    "    # Iterate from 2 to n / 2\n",
    "    for i in range(2, int(num/2)+1):\n",
    "        if (num % i) == 0:\n",
    "            print(num, \"is not a prime number\")\n",
    "            break\n",
    "    else:\n",
    "        print(num, \"is a prime number\")\n",
    "else:\n",
    "    print(num, \"is not a prime number\")"
   ]
  },
  {
   "cell_type": "markdown",
   "id": "f5e0748e",
   "metadata": {},
   "source": [
    "## 9. Write a Python program to sort a list of integers in ascending order."
   ]
  },
  {
   "cell_type": "code",
   "execution_count": 4,
   "id": "c01c602a",
   "metadata": {},
   "outputs": [
    {
     "name": "stdout",
     "output_type": "stream",
     "text": [
      "[1, 2, 4, 5, 7, 9, 10]\n"
     ]
    }
   ],
   "source": [
    "l=[4,5,7,2,1,9,10]\n",
    "l.sort()\n",
    "print(l)"
   ]
  },
  {
   "cell_type": "markdown",
   "id": "c1b0ae76",
   "metadata": {},
   "source": [
    "## 10. Implement a function to find the sum of all numbers in a list."
   ]
  },
  {
   "cell_type": "code",
   "execution_count": 5,
   "id": "8ec0629a",
   "metadata": {},
   "outputs": [
    {
     "name": "stdout",
     "output_type": "stream",
     "text": [
      "10\n"
     ]
    }
   ],
   "source": [
    "sum=0\n",
    "l=[1,2,3,4]\n",
    "for i in l:\n",
    "    if type(i)==int:\n",
    "        sum=sum+i\n",
    "   \n",
    "    else:\n",
    "        print(\"not valid operation\")    \n",
    "print(sum)        \n",
    "        "
   ]
  },
  {
   "cell_type": "markdown",
   "id": "83469382",
   "metadata": {},
   "source": [
    "## 11. Write a program to find the common elements between two lists.\n"
   ]
  },
  {
   "cell_type": "code",
   "execution_count": 6,
   "id": "5a55b8b1",
   "metadata": {},
   "outputs": [
    {
     "name": "stdout",
     "output_type": "stream",
     "text": [
      "[3, 5]\n"
     ]
    }
   ],
   "source": [
    "a=[2,3,4,5]\n",
    "b=[3,5,7,9]\n",
    "def common(a,b): \n",
    "    c = [value for value in a if value in b] \n",
    "    return c\n",
    "d=common(a,b)\n",
    "print(d)"
   ]
  },
  {
   "cell_type": "markdown",
   "id": "a4c706b0",
   "metadata": {},
   "source": [
    "## 12. Implement a function to check if a given string is an anagram of another string.\n"
   ]
  },
  {
   "cell_type": "code",
   "execution_count": 7,
   "id": "232faf9d",
   "metadata": {},
   "outputs": [
    {
     "name": "stdout",
     "output_type": "stream",
     "text": [
      "The strings are anagrams.\n"
     ]
    }
   ],
   "source": [
    "def check(s1, s2):\n",
    "    if(sorted(s1)== sorted(s2)):\n",
    "        print(\"The strings are anagrams.\")\n",
    "    else:\n",
    "        print(\"The strings aren't anagrams.\")        \n",
    "         \n",
    "# driver code \n",
    "s1 =\"listen\"\n",
    "s2 =\"silent\"\n",
    "check(s1, s2)"
   ]
  },
  {
   "cell_type": "markdown",
   "id": "44bfb807",
   "metadata": {},
   "source": [
    "## 13. Write a Python program to generate all permutations of a given string.\n"
   ]
  },
  {
   "cell_type": "code",
   "execution_count": 8,
   "id": "9cdcc79a",
   "metadata": {},
   "outputs": [
    {
     "name": "stdout",
     "output_type": "stream",
     "text": [
      "ABC\n",
      "ACB\n",
      "BAC\n",
      "BCA\n",
      "CBA\n",
      "CAB\n"
     ]
    }
   ],
   "source": [
    "\n",
    "# Python program to print all permutations\n",
    "# with duplicates allowed\n",
    "def toString(List):\n",
    "    return ''.join(List)\n",
    " \n",
    "# Function to print permutations\n",
    "# of string\n",
    "# This function takes three parameters:\n",
    "# 1. String\n",
    "# 2. Starting index of the string\n",
    "# 3. Ending index of the string.\n",
    "def permute(a, l, r):\n",
    "    if l == r:\n",
    "        print (toString(a))\n",
    "    else:\n",
    "        for i in range(l, r + 1):\n",
    "            a[l], a[i] = a[i], a[l]\n",
    "            permute(a, l + 1, r)\n",
    " \n",
    "            # backtrack\n",
    "            a[l], a[i] = a[i], a[l]\n",
    " \n",
    "# Driver code\n",
    "string = \"ABC\"\n",
    "n = len(string)\n",
    "a = list(string)\n",
    "permute(a, 0, n-1)\n"
   ]
  },
  {
   "cell_type": "markdown",
   "id": "96a6b1b1",
   "metadata": {},
   "source": [
    "## 14. Implement a function to calculate the Fibonacci sequence up to a given number of terms.\n"
   ]
  },
  {
   "cell_type": "code",
   "execution_count": 9,
   "id": "8a0670e6",
   "metadata": {},
   "outputs": [
    {
     "name": "stdout",
     "output_type": "stream",
     "text": [
      "34\n"
     ]
    }
   ],
   "source": [
    "def Fibonacci(n):\n",
    "    if n < 0:\n",
    "        print(\"Incorrect input\")\n",
    "    elif n == 0:\n",
    "        return 0\n",
    "    elif n == 1 or n == 2:\n",
    "        return 1\n",
    "  \n",
    "    else:\n",
    "        return Fibonacci(n-1) + Fibonacci(n-2)\n",
    "print(Fibonacci(9))"
   ]
  },
  {
   "cell_type": "markdown",
   "id": "aba0061e",
   "metadata": {},
   "source": [
    "## 15. Write a program to find the median of a list of numbers."
   ]
  },
  {
   "cell_type": "code",
   "execution_count": 10,
   "id": "84369a4e",
   "metadata": {},
   "outputs": [
    {
     "name": "stdout",
     "output_type": "stream",
     "text": [
      "3.5\n"
     ]
    }
   ],
   "source": [
    "import statistics\n",
    "l=[1,2,3,4,5,6]\n",
    "print(statistics.median(l))\n",
    "    "
   ]
  },
  {
   "cell_type": "markdown",
   "id": "66b7b74f",
   "metadata": {},
   "source": [
    "## 16. Implement a function to check if a given list is sorted in non-decreasing order.\n"
   ]
  },
  {
   "cell_type": "code",
   "execution_count": 13,
   "id": "c2f3f79a",
   "metadata": {
    "scrolled": true
   },
   "outputs": [
    {
     "name": "stdout",
     "output_type": "stream",
     "text": [
      "None\n"
     ]
    }
   ],
   "source": [
    "l=[2,3,8,9,1]\n",
    "def acending(l):\n",
    "    set(l)\n",
    "\n",
    "print(acending(l))    "
   ]
  },
  {
   "cell_type": "markdown",
   "id": "76ba5906",
   "metadata": {},
   "source": [
    "## 17. Write a Python program to find the intersection of two lists."
   ]
  },
  {
   "cell_type": "code",
   "execution_count": 14,
   "id": "ce1265b2",
   "metadata": {},
   "outputs": [
    {
     "name": "stdout",
     "output_type": "stream",
     "text": [
      "[1, 2]\n"
     ]
    }
   ],
   "source": [
    "l1=[1,2,3,4,5]\n",
    "l2=[1,2,6,7,8]\n",
    "def common(l1,l2): \n",
    "    c = [value for value in l1 if value in l2] \n",
    "    return c\n",
    "d=common(l1,l2)\n",
    "print(d)"
   ]
  },
  {
   "cell_type": "markdown",
   "id": "36739453",
   "metadata": {},
   "source": [
    "## 18. Implement a function to find the maximum subarray sum in a given list."
   ]
  },
  {
   "cell_type": "code",
   "execution_count": 15,
   "id": "c15d1609",
   "metadata": {},
   "outputs": [
    {
     "name": "stdout",
     "output_type": "stream",
     "text": [
      "Maximum contiguous sum is 7\n",
      "Starting Index 2\n",
      "Ending Index 6\n"
     ]
    }
   ],
   "source": [
    " \n",
    "from sys import maxsize\n",
    " \n",
    "# Function to find the maximum contiguous subarray\n",
    "# and print its starting and end index\n",
    " \n",
    " \n",
    "def maxSubArraySum(a, size):\n",
    " \n",
    "    max_so_far = -maxsize - 1\n",
    "    max_ending_here = 0\n",
    "    start = 0\n",
    "    end = 0\n",
    "    s = 0\n",
    " \n",
    "    for i in range(0, size):\n",
    " \n",
    "        max_ending_here += a[i]\n",
    " \n",
    "        if max_so_far < max_ending_here:\n",
    "            max_so_far = max_ending_here\n",
    "            start = s\n",
    "            end = i\n",
    " \n",
    "        if max_ending_here < 0:\n",
    "            max_ending_here = 0\n",
    "            s = i+1\n",
    " \n",
    "    print(\"Maximum contiguous sum is %d\" % (max_so_far))\n",
    "    print(\"Starting Index %d\" % (start))\n",
    "    print(\"Ending Index %d\" % (end))\n",
    " \n",
    " \n",
    "# Driver program to test maxSubArraySum\n",
    "a = [-2, -3, 4, -1, -2, 1, 5, -3]\n",
    "maxSubArraySum(a, len(a))"
   ]
  },
  {
   "cell_type": "markdown",
   "id": "2873ff40",
   "metadata": {},
   "source": [
    "## 19. Write a program to remove all vowels from a given string."
   ]
  },
  {
   "cell_type": "code",
   "execution_count": 16,
   "id": "3ba16b71",
   "metadata": {},
   "outputs": [
    {
     "name": "stdout",
     "output_type": "stream",
     "text": [
      "nktchdhr\n",
      "None\n"
     ]
    }
   ],
   "source": [
    "def remove_vowel(string):\n",
    "    vowles=['a','e','i','o','u']\n",
    "    result=[letter for letter in string if letter.lower() not in vowles]\n",
    "    result=''.join(result)\n",
    "    print(result)\n",
    "\n",
    "string1=\"ankitachaudhari\"  \n",
    "print(remove_vowel(string1))"
   ]
  },
  {
   "cell_type": "markdown",
   "id": "a6d50a81",
   "metadata": {},
   "source": [
    "## 20. Implement a function to reverse the order of words in a given sentence."
   ]
  },
  {
   "cell_type": "code",
   "execution_count": 17,
   "id": "b03cf5d0",
   "metadata": {},
   "outputs": [
    {
     "name": "stdout",
     "output_type": "stream",
     "text": [
      "much very program this like i\n"
     ]
    }
   ],
   "source": [
    "# s = input()\n",
    "s = \"i like this program very much\"\n",
    "words = s.split(' ')\n",
    "string = []\n",
    "for word in words:\n",
    "    string.insert(0, word)\n",
    " \n",
    " \n",
    "print(\" \".join(string))"
   ]
  },
  {
   "cell_type": "markdown",
   "id": "eee20a88",
   "metadata": {},
   "source": [
    "## 21. Write a Python program to check if two strings are anagrams of each other."
   ]
  },
  {
   "cell_type": "code",
   "execution_count": 18,
   "id": "16d2a8c8",
   "metadata": {},
   "outputs": [
    {
     "name": "stdout",
     "output_type": "stream",
     "text": [
      "The strings are anagrams.\n"
     ]
    }
   ],
   "source": [
    "def check(s1, s2):\n",
    "    if(sorted(s1)== sorted(s2)):\n",
    "        print(\"The strings are anagrams.\")\n",
    "    else:\n",
    "        print(\"The strings aren't anagrams.\")        \n",
    "         \n",
    "# driver code \n",
    "s1 =\"listen\"\n",
    "s2 =\"silent\"\n",
    "check(s1, s2)"
   ]
  },
  {
   "cell_type": "markdown",
   "id": "0a0d528e",
   "metadata": {},
   "source": [
    "## 22. Implement a function to find the first non-repeating character in a string."
   ]
  },
  {
   "cell_type": "code",
   "execution_count": 19,
   "id": "e2427595",
   "metadata": {},
   "outputs": [
    {
     "name": "stdout",
     "output_type": "stream",
     "text": [
      "First non-repeating character is n\n"
     ]
    }
   ],
   "source": [
    "string = \"ankitachaudhari\"\n",
    "index = -1\n",
    "fnc = \"\"\n",
    " \n",
    "if len(string) == 0 :\n",
    "  print(\"EMTPY STRING\");\n",
    " \n",
    "for i in string:\n",
    "    if string.count(i) == 1:\n",
    "        fnc += i\n",
    "        break\n",
    "    else:\n",
    "        index += 1\n",
    "if index == len(string)-1 :\n",
    "    print(\"All characters are repeating \")\n",
    "else:\n",
    "    print(\"First non-repeating character is\", fnc)"
   ]
  },
  {
   "cell_type": "markdown",
   "id": "b048799e",
   "metadata": {},
   "source": [
    "## 23. Write a program to find the prime factors of a given number."
   ]
  },
  {
   "cell_type": "code",
   "execution_count": 20,
   "id": "581bce7b",
   "metadata": {},
   "outputs": [
    {
     "name": "stdout",
     "output_type": "stream",
     "text": [
      "[2, 3, 5, 7]\n"
     ]
    }
   ],
   "source": [
    "def Prime_Factorial(n):\n",
    "    if n < 4:\n",
    "        return n\n",
    "    arr = []\n",
    "    while n > 1:\n",
    "        for i in range(2, int(2+n//2)):\n",
    "            if i == (1 + n // 2):\n",
    "                arr.append(n)\n",
    "                n = n // n\n",
    "            if n % i == 0:\n",
    "                arr.append(i)\n",
    "                n = n // i\n",
    "                break\n",
    "    return arr\n",
    "\n",
    "\n",
    "n = 210\n",
    "print(Prime_Factorial(n))"
   ]
  },
  {
   "cell_type": "markdown",
   "id": "205abd81",
   "metadata": {},
   "source": [
    "## 24. Implement a function to check if a given number is a power of two."
   ]
  },
  {
   "cell_type": "code",
   "execution_count": 21,
   "id": "9f902c7e",
   "metadata": {},
   "outputs": [
    {
     "name": "stdout",
     "output_type": "stream",
     "text": [
      "No\n",
      "Yes\n"
     ]
    }
   ],
   "source": [
    "def isPowerOfTwo(n):\n",
    "    if (n == 0):\n",
    "        return False\n",
    "    while (n != 1):\n",
    "        if (n % 2 != 0):\n",
    "            return False\n",
    "        n = n // 2\n",
    " \n",
    "    return True\n",
    " \n",
    "if __name__ == \"__main__\":\n",
    " \n",
    "    # Function call\n",
    "    if(isPowerOfTwo(31)):\n",
    "        print('Yes')\n",
    "    else:\n",
    "        print('No')\n",
    "    if(isPowerOfTwo(64)):\n",
    "        print('Yes')\n",
    "    else:\n",
    "        print('No')"
   ]
  },
  {
   "cell_type": "markdown",
   "id": "678dc3d5",
   "metadata": {},
   "source": [
    "## 25. Write a Python program to merge two sorted lists into a single sorted list."
   ]
  },
  {
   "cell_type": "code",
   "execution_count": 22,
   "id": "b0f7af63",
   "metadata": {},
   "outputs": [
    {
     "name": "stdout",
     "output_type": "stream",
     "text": [
      "[1, 2, 3, 4, 5, 6, 7, 8, 9, 10]\n"
     ]
    }
   ],
   "source": [
    "l1=[1,2,3,4,5,6]\n",
    "l2=[7,8,9,10]\n",
    "l1.extend(l2)\n",
    "l1.sort()\n",
    "print(l1)"
   ]
  },
  {
   "cell_type": "markdown",
   "id": "f3d82f81",
   "metadata": {},
   "source": [
    "## 26. Implement a function to find the mode of a list of numbers."
   ]
  },
  {
   "cell_type": "code",
   "execution_count": 23,
   "id": "fcee3ed5",
   "metadata": {},
   "outputs": [
    {
     "name": "stdout",
     "output_type": "stream",
     "text": [
      "5\n"
     ]
    }
   ],
   "source": [
    "import statistics\n",
    "l=[1,2,3,4,5,5,5,5,5,2]\n",
    "print(statistics.mode(l))"
   ]
  },
  {
   "cell_type": "markdown",
   "id": "1ddbb751",
   "metadata": {},
   "source": [
    "## 27. Write a program to find the greatest common divisor (GCD) of two numbers."
   ]
  },
  {
   "cell_type": "code",
   "execution_count": 24,
   "id": "49566957",
   "metadata": {},
   "outputs": [
    {
     "name": "stdout",
     "output_type": "stream",
     "text": [
      "2\n"
     ]
    }
   ],
   "source": [
    "def gcd(a, b):\n",
    "    result = min(a, b)\n",
    "    while result:\n",
    "        if a % result == 0 and b % result == 0:\n",
    "            break\n",
    "        result -= 1\n",
    " \n",
    "    return result\n",
    "print(gcd(2,4))"
   ]
  },
  {
   "cell_type": "markdown",
   "id": "ec8e1550",
   "metadata": {},
   "source": [
    "## 28. Implement a function to calculate the square root of a given number."
   ]
  },
  {
   "cell_type": "code",
   "execution_count": 25,
   "id": "01476908",
   "metadata": {},
   "outputs": [
    {
     "name": "stdout",
     "output_type": "stream",
     "text": [
      "3\n"
     ]
    }
   ],
   "source": [
    "def sqroot(n):\n",
    "    sqrt=n**0.5\n",
    "    result=int(sqrt)\n",
    "    return result\n",
    "\n",
    "n=9\n",
    "print(sqroot(n))\n",
    "    "
   ]
  },
  {
   "cell_type": "markdown",
   "id": "124640c6",
   "metadata": {},
   "source": [
    "## 29. Write a Python program to check if a given string is a valid palindrome ignoring non-alphanumeric characters."
   ]
  },
  {
   "cell_type": "code",
   "execution_count": 28,
   "id": "0073f34f",
   "metadata": {},
   "outputs": [
    {
     "name": "stdout",
     "output_type": "stream",
     "text": [
      "No\n"
     ]
    }
   ],
   "source": [
    "def isPalindrome(s):\n",
    "    for i in s:\n",
    "        if type(i)==str:\n",
    "            return s == s[::-1]\n",
    "        else:\n",
    "            return NA\n",
    " \n",
    "# Driver code\n",
    "s = \"malayalam@\"\n",
    "ans = isPalindrome(s)\n",
    " \n",
    "if ans:\n",
    "    print(\"Yes\")\n",
    "else:\n",
    "    print(\"No\")"
   ]
  },
  {
   "cell_type": "markdown",
   "id": "7f65afce",
   "metadata": {},
   "source": [
    "## 30. Implement a function to find the minimum element in a rotated sorted list."
   ]
  },
  {
   "cell_type": "code",
   "execution_count": 29,
   "id": "2c9176c5",
   "metadata": {},
   "outputs": [
    {
     "name": "stdout",
     "output_type": "stream",
     "text": [
      "The Minimum Element in the vector is:  1\n"
     ]
    }
   ],
   "source": [
    "from typing import List\n",
    "\n",
    "def find_min(arr: List[int]) -> int:\n",
    "\treturn min(arr)\n",
    "\n",
    "v = [5, 6, 1, 2, 3, 4]\n",
    "print(\"The Minimum Element in the vector is: \", find_min(v))\n"
   ]
  },
  {
   "cell_type": "markdown",
   "id": "ec531249",
   "metadata": {},
   "source": [
    "## 31. Write a program to find the sum of all even numbers in a list."
   ]
  },
  {
   "cell_type": "code",
   "execution_count": 30,
   "id": "634a44eb",
   "metadata": {},
   "outputs": [
    {
     "name": "stdout",
     "output_type": "stream",
     "text": [
      "12\n"
     ]
    }
   ],
   "source": [
    "sum=0\n",
    "l=[1,2,3,4,5,6]\n",
    "for i in l:\n",
    "    if type(i)==int and i%2==0:\n",
    "        sum=sum+i\n",
    "    \n",
    "print(sum)\n",
    "        "
   ]
  },
  {
   "cell_type": "markdown",
   "id": "82ad4468",
   "metadata": {},
   "source": [
    "## 32. Implement a function to calculate the power of a number using recursion."
   ]
  },
  {
   "cell_type": "code",
   "execution_count": 31,
   "id": "57468c57",
   "metadata": {},
   "outputs": [
    {
     "name": "stdout",
     "output_type": "stream",
     "text": [
      "25\n"
     ]
    }
   ],
   "source": [
    "def power(N, P):\n",
    "    if P == 0:\n",
    "        return 1\n",
    "    return (N*power(N, P-1))\n",
    "\n",
    "if __name__ == '__main__':\n",
    "    N = 5\n",
    "    P = 2\n",
    " \n",
    "    print(power(N, P))"
   ]
  },
  {
   "cell_type": "markdown",
   "id": "4bf52edf",
   "metadata": {},
   "source": [
    "## 33. Write a Python program to remove duplicates from a list while preserving the order."
   ]
  },
  {
   "cell_type": "code",
   "execution_count": 32,
   "id": "fa6e8c40",
   "metadata": {},
   "outputs": [
    {
     "name": "stdout",
     "output_type": "stream",
     "text": [
      "{1, 2, 3, 4, 5, 6, 7, 8, 9, 55}\n"
     ]
    }
   ],
   "source": [
    "l=[1,2,2,2,3,3,3,3,3,4,4,4,4,55,5,5,5,6,7,8,9]\n",
    "print(set(l))\n"
   ]
  },
  {
   "cell_type": "markdown",
   "id": "184b419c",
   "metadata": {},
   "source": [
    "## 34. Implement a function to find the longest common prefix among a list of strings."
   ]
  },
  {
   "cell_type": "code",
   "execution_count": 33,
   "id": "893885e9",
   "metadata": {},
   "outputs": [
    {
     "name": "stdout",
     "output_type": "stream",
     "text": [
      "The longest Common Prefix is : gee\n"
     ]
    }
   ],
   "source": [
    "def longestCommonPrefix( a):\n",
    "     \n",
    "    size = len(a)\n",
    "    if (size == 0):\n",
    "        return \"\"\n",
    " \n",
    "    if (size == 1):\n",
    "        return a[0]\n",
    " \n",
    "    # sort the array of strings\n",
    "    a.sort()\n",
    "     \n",
    "    # find the minimum length from\n",
    "    # first and last string\n",
    "    end = min(len(a[0]), len(a[size - 1]))\n",
    " \n",
    "    # find the common prefix between\n",
    "    # the first and last string\n",
    "    i = 0\n",
    "    while (i < end and\n",
    "           a[0][i] == a[size - 1][i]):\n",
    "        i += 1\n",
    " \n",
    "    pre = a[0][0: i]\n",
    "    return pre\n",
    " \n",
    "# Driver Code\n",
    "if __name__ == \"__main__\":\n",
    " \n",
    "    input = [\"geeksforgeeks\", \"geeks\",\n",
    "                     \"geek\", \"geezer\"]\n",
    "    print(\"The longest Common Prefix is :\" ,\n",
    "                 longestCommonPrefix(input))"
   ]
  },
  {
   "cell_type": "markdown",
   "id": "f2149ed0",
   "metadata": {},
   "source": [
    "## 35. Write a program to check if a given number is a perfect square."
   ]
  },
  {
   "cell_type": "code",
   "execution_count": 34,
   "id": "6ce7e843",
   "metadata": {},
   "outputs": [
    {
     "name": "stdout",
     "output_type": "stream",
     "text": [
      "Yes\n"
     ]
    }
   ],
   "source": [
    "import math\n",
    " \n",
    " \n",
    "def isPerfectSquare(x):\n",
    "    if(x >= 0):\n",
    "        sr = int(math.sqrt(x))\n",
    "        # sqrt function returns floating value so we have to convert it into integer\n",
    "        #return boolean T/F\n",
    "        return ((sr*sr) == x)\n",
    "    return false\n",
    " \n",
    "# Driver code\n",
    " \n",
    " \n",
    "x = 2500\n",
    "if (isPerfectSquare(x)):\n",
    "    print(\"Yes\")\n",
    "else:\n",
    "    print(\"No\")"
   ]
  },
  {
   "cell_type": "markdown",
   "id": "6a2d72ce",
   "metadata": {},
   "source": [
    "## 36. Implement a function to calculate the product of all elements in a list."
   ]
  },
  {
   "cell_type": "code",
   "execution_count": 35,
   "id": "9c0ee740",
   "metadata": {},
   "outputs": [
    {
     "name": "stdout",
     "output_type": "stream",
     "text": [
      "6\n"
     ]
    }
   ],
   "source": [
    "def product(l):\n",
    "    result=1\n",
    "    for i in l:\n",
    "        result=result*i\n",
    "    return result\n",
    "\n",
    "l=[1,2,3] \n",
    "print(product(l))\n",
    "  "
   ]
  },
  {
   "cell_type": "markdown",
   "id": "469002b3",
   "metadata": {},
   "source": [
    "## 37. Write a Python program to reverse the order of words in a sentence while preserving the word order."
   ]
  },
  {
   "cell_type": "code",
   "execution_count": 36,
   "id": "e6bf7d71",
   "metadata": {},
   "outputs": [
    {
     "name": "stdout",
     "output_type": "stream",
     "text": [
      "I ma atikna irahduahc\n"
     ]
    }
   ],
   "source": [
    "def reverseWordSentence(Sentence):\n",
    "    return ' '.join(word[::-1] for word in Sentence.split(\" \"))\n",
    " \n",
    "# Driver's Code\n",
    "Sentence = \"I am ankita chaudhari\"\n",
    "print(reverseWordSentence(Sentence))"
   ]
  },
  {
   "cell_type": "markdown",
   "id": "e27ba750",
   "metadata": {},
   "source": [
    "## 38. Implement a function to find the missing number in a given list of consecutive numbers."
   ]
  },
  {
   "cell_type": "code",
   "execution_count": 37,
   "id": "245e87e6",
   "metadata": {},
   "outputs": [
    {
     "name": "stdout",
     "output_type": "stream",
     "text": [
      "-6\n"
     ]
    }
   ],
   "source": [
    "def findMissing(arr, n):\n",
    " \n",
    "    l, h = 0, n - 1\n",
    "    mid = 0\n",
    " \n",
    "    while (h > l):\n",
    " \n",
    "        mid = l + (h - l) // 2\n",
    " \n",
    "        # Check if middle element is consistent\n",
    "        if (arr[mid] - mid == arr[0]):\n",
    " \n",
    "            # No inconsistency till middle elements\n",
    "            # When missing element is just after\n",
    "            # the middle element\n",
    "            if (arr[mid + 1] - arr[mid] > 1):\n",
    "                return arr[mid] + 1\n",
    "            else:\n",
    " \n",
    "                # Move right\n",
    "                l = mid + 1\n",
    "             \n",
    "        else:\n",
    " \n",
    "            # Inconsistency found\n",
    "            # When missing element is just before\n",
    "            # the middle element\n",
    "            if (arr[mid] - arr[mid - 1] > 1):\n",
    "                return arr[mid] - 1\n",
    "            else:\n",
    " \n",
    "                # Move left\n",
    "                h = mid - 1\n",
    "             \n",
    "    # No missing element found\n",
    "    return -1\n",
    " \n",
    "# Driver code\n",
    "arr = [-9, -8, -7, -5, -4, -3, -2, -1, 0 ]\n",
    "n = len(arr)\n",
    " \n",
    "print(findMissing(arr, n))"
   ]
  },
  {
   "cell_type": "markdown",
   "id": "6b4e4383",
   "metadata": {},
   "source": [
    "## 39. Write a program to find the sum of digits of a given number."
   ]
  },
  {
   "cell_type": "code",
   "execution_count": 40,
   "id": "42efc609",
   "metadata": {},
   "outputs": [
    {
     "name": "stdout",
     "output_type": "stream",
     "text": [
      "104\n"
     ]
    }
   ],
   "source": [
    "def getSum(n):\n",
    "    sum = 0\n",
    "    for i in n:\n",
    "        sum = sum + int(i)\n",
    " \n",
    "    return sum\n",
    " \n",
    "# Driver code\n",
    " \n",
    " \n",
    "if __name__ == \"__main__\":\n",
    "    n = \"123456789123456789123422\"\n",
    " \n",
    "    # Function call\n",
    "    print(getSum(n))"
   ]
  },
  {
   "cell_type": "markdown",
   "id": "c2e33aa4",
   "metadata": {},
   "source": [
    "## 40. Implement a function to check if a given string is a valid palindrome considering case sensitivity."
   ]
  },
  {
   "cell_type": "code",
   "execution_count": 44,
   "id": "4eacbc51",
   "metadata": {},
   "outputs": [
    {
     "name": "stdout",
     "output_type": "stream",
     "text": [
      "YES\n"
     ]
    }
   ],
   "source": [
    "def firstPos(str, start, end):\n",
    " \n",
    "    firstChar = -1\n",
    " \n",
    "    # Get the position of first character\n",
    "    # in the string\n",
    "    for i in range(start, end + 1):\n",
    "        if (str[i] >= 'a' and str[i] <= 'z') :\n",
    "            firstChar = i\n",
    "            break\n",
    " \n",
    "    return firstChar\n",
    " \n",
    "# Utility function to get the position of\n",
    "# last character in the string\n",
    "def lastPos(str, start, end):\n",
    " \n",
    "    lastChar = -1\n",
    " \n",
    "    # Get the position of last character\n",
    "    # in the string\n",
    "    for i in range(start, end - 1, -1) :\n",
    "        if (str[i] >= 'a' and str[i] <= 'z') :\n",
    "            lastChar = i\n",
    "            break\n",
    " \n",
    "    return lastChar\n",
    " \n",
    "# Function to check if the characters in\n",
    "# the given string forms a Palindrome in\n",
    "# O(1) extra space\n",
    "def isPalindrome(str):\n",
    " \n",
    "    firstChar = 0\n",
    "    lastChar = len(str) - 1\n",
    "    ch = True\n",
    " \n",
    "    for i in range(len(str)) :\n",
    "        firstChar = firstPos(str, firstChar, lastChar);\n",
    "        lastChar = lastPos(str, lastChar, firstChar);\n",
    " \n",
    "        # break, when all letters are checked\n",
    "        if (lastChar < 0 or firstChar < 0):\n",
    "            break\n",
    "        if (str[firstChar] == str[lastChar]):\n",
    "            firstChar += 1\n",
    "            lastChar -= 1\n",
    "            continue\n",
    " \n",
    "        # if mismatch found, break the loop\n",
    "        ch = False\n",
    "        break\n",
    " \n",
    "    return (ch)\n",
    " \n",
    "# Driver code\n",
    "if __name__ == \"__main__\":\n",
    "     \n",
    "    str = \"m     a 343 la y a l am\"\n",
    "    if (isPalindrome(str)):\n",
    "        print(\"YES\")\n",
    "    else:\n",
    "        print(\"NO\")\n",
    " "
   ]
  },
  {
   "cell_type": "markdown",
   "id": "6b059d93",
   "metadata": {},
   "source": [
    "## 41. Write a Python program to find the smallest missing positive integer in a list."
   ]
  },
  {
   "cell_type": "code",
   "execution_count": 45,
   "id": "773fd82a",
   "metadata": {},
   "outputs": [
    {
     "name": "stdout",
     "output_type": "stream",
     "text": [
      "1\n"
     ]
    }
   ],
   "source": [
    "def solution(A):  # Our original array\n",
    " \n",
    "    m = max(A)  # Storing maximum value\n",
    "    if m < 1:\n",
    " \n",
    "        # In case all values in our array are negative\n",
    "        return 1\n",
    "    if len(A) == 1:\n",
    " \n",
    "        # If it contains only one element\n",
    "        return 2 if A[0] == 1 else 1\n",
    "    l = [0] * m\n",
    "    for i in range(len(A)):\n",
    "        if A[i] > 0:\n",
    "            if l[A[i] - 1] != 1:\n",
    " \n",
    "                # Changing the value status at the index of our list\n",
    "                l[A[i] - 1] = 1\n",
    "    for i in range(len(l)):\n",
    " \n",
    "        # Encountering first 0, i.e, the element with least value\n",
    "        if l[i] == 0:\n",
    "            return i + 1\n",
    "            # In case all values are filled between 1 and m\n",
    "    return i + 2\n",
    " \n",
    " \n",
    "# Driver Code\n",
    "if __name__ == '__main__':\n",
    "    arr = [0, 10, 2, -10, -20]\n",
    "    print(solution(arr))"
   ]
  },
  {
   "cell_type": "markdown",
   "id": "02766e5a",
   "metadata": {},
   "source": [
    "## 42. Implement a function to find the longest palindrome substring in a given string."
   ]
  },
  {
   "cell_type": "code",
   "execution_count": 46,
   "id": "a12459c9",
   "metadata": {},
   "outputs": [
    {
     "name": "stdout",
     "output_type": "stream",
     "text": [
      "Longest palindrome substring is: ama\n",
      "Length is: 3\n"
     ]
    }
   ],
   "source": [
    "def printSubStr(str, low, high):\n",
    "    for i in range(low, high + 1):\n",
    "        print(str[i], end=\"\")\n",
    " \n",
    " \n",
    "# This function prints the\n",
    "# longest palindrome subString\n",
    "# It also returns the length\n",
    "# of the longest palindrome\n",
    "def longestPalSubstr(str):\n",
    " \n",
    "    # Get length of input String\n",
    "    n = len(str)\n",
    " \n",
    "    # All subStrings of length 1\n",
    "    # are palindromes\n",
    "    maxLength = 1\n",
    "    start = 0\n",
    " \n",
    "    # Nested loop to mark start\n",
    "    # and end index\n",
    "    for i in range(n):\n",
    "        for j in range(i, n):\n",
    "            flag = 1\n",
    " \n",
    "            # Check palindrome\n",
    "            for k in range(0, ((j - i) // 2) + 1):\n",
    "                if (str[i + k] != str[j - k]):\n",
    "                    flag = 0\n",
    " \n",
    "            # Palindrome\n",
    "            if (flag != 0 and (j - i + 1) > maxLength):\n",
    "                start = i\n",
    "                maxLength = j - i + 1\n",
    " \n",
    "    print(\"Longest palindrome substring is: \", end=\"\")\n",
    "    printSubStr(str, start, start + maxLength - 1)\n",
    " \n",
    "    # Return length of LPS\n",
    "    return maxLength\n",
    " \n",
    " \n",
    "# Driver Code\n",
    "if __name__ == '__main__':\n",
    " \n",
    "    str = \"iamankitachaudhari\"\n",
    "    print(\"\\nLength is:\", longestPalSubstr(str))"
   ]
  },
  {
   "cell_type": "markdown",
   "id": "0cf6aedd",
   "metadata": {},
   "source": [
    "## 43. Write a program to find the number of occurrences of a given element in a list"
   ]
  },
  {
   "cell_type": "code",
   "execution_count": 47,
   "id": "0ca87467",
   "metadata": {},
   "outputs": [
    {
     "name": "stdout",
     "output_type": "stream",
     "text": [
      "1 3\n",
      "1 3\n",
      "1 3\n",
      "2 4\n",
      "2 4\n",
      "2 4\n",
      "2 4\n",
      "3 3\n",
      "3 3\n",
      "3 3\n",
      "4 1\n"
     ]
    }
   ],
   "source": [
    "l=[1,1,1,2,2,2,2,3,3,3,4]\n",
    "for i in l:\n",
    "    print(i,l.count(i))    \n",
    "    "
   ]
  },
  {
   "cell_type": "markdown",
   "id": "c08c3e2b",
   "metadata": {},
   "source": [
    "## 44. Implement a function to check if a given number is a perfect number."
   ]
  },
  {
   "cell_type": "code",
   "execution_count": 48,
   "id": "d5961de4",
   "metadata": {},
   "outputs": [
    {
     "name": "stdout",
     "output_type": "stream",
     "text": [
      "Below are all perfect numbers till 10000\n",
      "6  is a perfect number\n",
      "28  is a perfect number\n",
      "496  is a perfect number\n",
      "8128  is a perfect number\n"
     ]
    }
   ],
   "source": [
    "def isPerfect( n ):\n",
    "     \n",
    "    # To store sum of divisors\n",
    "    sum = 1\n",
    "     \n",
    "    # Find all divisors and add them\n",
    "    i = 2\n",
    "    while i * i <= n:\n",
    "        if n % i == 0:\n",
    "            sum = sum + i + n/i\n",
    "        i += 1\n",
    "     \n",
    "    # If sum of divisors is equal to\n",
    "    # n, then n is a perfect number\n",
    "     \n",
    "    return (True if sum == n and n!=1 else False)\n",
    " \n",
    "# Driver program\n",
    "print(\"Below are all perfect numbers till 10000\")\n",
    "n = 2\n",
    "for n in range (10000):\n",
    "    if isPerfect (n):\n",
    "        print(n , \" is a perfect number\")"
   ]
  },
  {
   "cell_type": "markdown",
   "id": "13d38d97",
   "metadata": {},
   "source": [
    "## 45. Write a Python program to remove all duplicates from a string."
   ]
  },
  {
   "cell_type": "code",
   "execution_count": 49,
   "id": "240fafb3",
   "metadata": {},
   "outputs": [
    {
     "name": "stdout",
     "output_type": "stream",
     "text": [
      "iamnktchudr\n"
     ]
    }
   ],
   "source": [
    "\n",
    "string=\"iamankitachaudhari\"\n",
    "p=\"\"\n",
    "for char in string:\n",
    "    if char not in p:\n",
    "        p=p+char\n",
    "print(p)\n",
    "k=list(\"iamankitachaudhari\")"
   ]
  },
  {
   "cell_type": "markdown",
   "id": "4b076202",
   "metadata": {},
   "source": [
    "## 46. Implement a function to find the first missing positive"
   ]
  },
  {
   "cell_type": "code",
   "execution_count": 51,
   "id": "ddacabb6",
   "metadata": {},
   "outputs": [
    {
     "name": "stdout",
     "output_type": "stream",
     "text": [
      "1\n"
     ]
    }
   ],
   "source": [
    "def firstMissingPositive(arr, n):\n",
    " \n",
    "    ptr = 0\n",
    " \n",
    "    # Check if 1 is present in array or not\n",
    "    for i in range(n):\n",
    "        if arr[i] == 1:\n",
    "            ptr = 1\n",
    "            break\n",
    " \n",
    "    # If 1 is not present\n",
    "    if ptr == 0:\n",
    "        return(1)\n",
    " \n",
    "    # Changing values to 1\n",
    "    for i in range(n):\n",
    "        if arr[i] <= 0 or arr[i] > n:\n",
    "            arr[i] = 1\n",
    " \n",
    "    # Updating indices according to values\n",
    "    for i in range(n):\n",
    "        arr[(arr[i] - 1) % n] += n\n",
    " \n",
    "    # Finding which index has value less than n\n",
    "    for i in range(n):\n",
    "        if arr[i] <= n:\n",
    "            return(i + 1)\n",
    " \n",
    "    # If array has values from 1 to n\n",
    "    return(n + 1)\n",
    " \n",
    "# Driver Code\n",
    "if __name__ == '__main__':\n",
    "    # Given array\n",
    "    A = [0, 10, 2, -10, -20]\n",
    "     \n",
    "    # Size of the array\n",
    "    N = len(A)\n",
    "     \n",
    "    # Function call\n",
    "    print(firstMissingPositive(A, N))\n",
    " "
   ]
  }
 ],
 "metadata": {
  "kernelspec": {
   "display_name": "Python 3 (ipykernel)",
   "language": "python",
   "name": "python3"
  },
  "language_info": {
   "codemirror_mode": {
    "name": "ipython",
    "version": 3
   },
   "file_extension": ".py",
   "mimetype": "text/x-python",
   "name": "python",
   "nbconvert_exporter": "python",
   "pygments_lexer": "ipython3",
   "version": "3.9.13"
  }
 },
 "nbformat": 4,
 "nbformat_minor": 5
}
